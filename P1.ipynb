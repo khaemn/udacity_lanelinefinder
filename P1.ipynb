{
 "cells": [
  {
   "cell_type": "markdown",
   "metadata": {},
   "source": [
    "# Self-Driving Car Engineer Nanodegree\n",
    "\n",
    "\n",
    "## Project: **Finding Lane Lines on the Road** \n",
    "***\n",
    "In this project, you will use the tools you learned about in the lesson to identify lane lines on the road.  You can develop your pipeline on a series of individual images, and later apply the result to a video stream (really just a series of images). Check out the video clip \"raw-lines-example.mp4\" (also contained in this repository) to see what the output should look like after using the helper functions below. \n",
    "\n",
    "Once you have a result that looks roughly like \"raw-lines-example.mp4\", you'll need to get creative and try to average and/or extrapolate the line segments you've detected to map out the full extent of the lane lines.  You can see an example of the result you're going for in the video \"P1_example.mp4\".  Ultimately, you would like to draw just one line for the left side of the lane, and one for the right.\n",
    "\n",
    "In addition to implementing code, there is a brief writeup to complete. The writeup should be completed in a separate file, which can be either a markdown file or a pdf document. There is a [write up template](https://github.com/udacity/CarND-LaneLines-P1/blob/master/writeup_template.md) that can be used to guide the writing process. Completing both the code in the Ipython notebook and the writeup template will cover all of the [rubric points](https://review.udacity.com/#!/rubrics/322/view) for this project.\n",
    "\n",
    "---\n",
    "Let's have a look at our first image called 'test_images/solidWhiteRight.jpg'.  Run the 2 cells below (hit Shift-Enter or the \"play\" button above) to display the image.\n",
    "\n",
    "**Note: If, at any point, you encounter frozen display windows or other confounding issues, you can always start again with a clean slate by going to the \"Kernel\" menu above and selecting \"Restart & Clear Output\".**\n",
    "\n",
    "---"
   ]
  },
  {
   "cell_type": "markdown",
   "metadata": {},
   "source": [
    "**The tools you have are color selection, region of interest selection, grayscaling, Gaussian smoothing, Canny Edge Detection and Hough Tranform line detection.  You  are also free to explore and try other techniques that were not presented in the lesson.  Your goal is piece together a pipeline to detect the line segments in the image, then average/extrapolate them and draw them onto the image for display (as below).  Once you have a working pipeline, try it out on the video stream below.**\n",
    "\n",
    "---\n",
    "\n",
    "<figure>\n",
    " <img src=\"examples/line-segments-example.jpg\" width=\"380\" alt=\"Combined Image\" />\n",
    " <figcaption>\n",
    " <p></p> \n",
    " <p style=\"text-align: center;\"> Your output should look something like this (above) after detecting line segments using the helper functions below </p> \n",
    " </figcaption>\n",
    "</figure>\n",
    " <p></p> \n",
    "<figure>\n",
    " <img src=\"examples/laneLines_thirdPass.jpg\" width=\"380\" alt=\"Combined Image\" />\n",
    " <figcaption>\n",
    " <p></p> \n",
    " <p style=\"text-align: center;\"> Your goal is to connect/average/extrapolate line segments to get output like this</p> \n",
    " </figcaption>\n",
    "</figure>"
   ]
  },
  {
   "cell_type": "markdown",
   "metadata": {},
   "source": [
    "**Run the cell below to import some packages.  If you get an `import error` for a package you've already installed, try changing your kernel (select the Kernel menu above --> Change Kernel).  Still have problems?  Try relaunching Jupyter Notebook from the terminal prompt.  Also, consult the forums for more troubleshooting tips.**  "
   ]
  },
  {
   "cell_type": "markdown",
   "metadata": {},
   "source": [
    "## Import Packages"
   ]
  },
  {
   "cell_type": "code",
   "execution_count": null,
   "metadata": {},
   "outputs": [],
   "source": [
    "#importing some useful packages\n",
    "import matplotlib.pyplot as plt\n",
    "import matplotlib.image as mpimg\n",
    "import numpy as np\n",
    "import cv2\n",
    "%matplotlib inline"
   ]
  },
  {
   "cell_type": "markdown",
   "metadata": {},
   "source": [
    "## Read in an Image"
   ]
  },
  {
   "cell_type": "code",
   "execution_count": null,
   "metadata": {},
   "outputs": [],
   "source": [
    "#reading in an image\n",
    "image = mpimg.imread('test_images/solidWhiteRight.jpg')\n",
    "\n",
    "#printing out some stats and plotting\n",
    "print('This image is:', type(image), 'with dimensions:', image.shape)\n",
    "plt.imshow(image)  # if you wanted to show a single color channel image called 'gray', for example, call as plt.imshow(gray, cmap='gray')"
   ]
  },
  {
   "cell_type": "markdown",
   "metadata": {},
   "source": [
    "## Ideas for Lane Detection Pipeline"
   ]
  },
  {
   "cell_type": "markdown",
   "metadata": {},
   "source": [
    "**Some OpenCV functions (beyond those introduced in the lesson) that might be useful for this project are:**\n",
    "\n",
    "`cv2.inRange()` for color selection  \n",
    "`cv2.fillPoly()` for regions selection  \n",
    "`cv2.line()` to draw lines on an image given endpoints  \n",
    "`cv2.addWeighted()` to coadd / overlay two images\n",
    "`cv2.cvtColor()` to grayscale or change color\n",
    "`cv2.imwrite()` to output images to file  \n",
    "`cv2.bitwise_and()` to apply a mask to an image\n",
    "\n",
    "**Check out the OpenCV documentation to learn about these and discover even more awesome functionality!**"
   ]
  },
  {
   "cell_type": "markdown",
   "metadata": {},
   "source": [
    "## Helper Functions"
   ]
  },
  {
   "cell_type": "markdown",
   "metadata": {},
   "source": [
    "Below are some helper functions to help get you started. They should look familiar from the lesson!"
   ]
  },
  {
   "cell_type": "code",
   "execution_count": null,
   "metadata": {},
   "outputs": [],
   "source": [
    "# This filter is as naive as possible and is adapted to be\n",
    "# computed in integer domain to improve performance.\n",
    "# The idea is: old data has higher priority then new one\n",
    "# when averaging them.\n",
    "class NaiveBayesianFilter():\n",
    "    def __init__(self, coeff = 2):\n",
    "        assert(coeff >= 2)\n",
    "        self.coeff = coeff\n",
    "        self.data = None\n",
    "    \n",
    "    def update(self, new_data):\n",
    "        if self.data is None:\n",
    "            self.data = new_data\n",
    "            return self.data\n",
    "        old_data = self.data * (self.coeff - 1)\n",
    "        self.data = (old_data + new_data) // self.coeff\n",
    "        return self.data\n",
    "    \n",
    "    def reset(self):\n",
    "        self.data = None\n",
    "        \n",
    "# The filter coefficient has to be adjusted for a particular purpose.\n",
    "# Based on the test videos I have selected 8.\n",
    "bayesian_filter = NaiveBayesianFilter(8)\n",
    "       \n"
   ]
  },
  {
   "cell_type": "code",
   "execution_count": null,
   "metadata": {},
   "outputs": [],
   "source": [
    "import math\n",
    "\n",
    "def grayscale(img):\n",
    "    \"\"\"Applies the Grayscale transform\n",
    "    This will return an image with only one color channel\n",
    "    but NOTE: to see the returned image as grayscale\n",
    "    (assuming your grayscaled image is called 'gray')\n",
    "    you should call plt.imshow(gray, cmap='gray')\"\"\"\n",
    "    return cv2.cvtColor(img, cv2.COLOR_RGB2GRAY)\n",
    "    # Or use BGR2GRAY if you read an image with cv2.imread()\n",
    "    # return cv2.cvtColor(img, cv2.COLOR_BGR2GRAY)\n",
    "    \n",
    "def canny(img, low_threshold, high_threshold):\n",
    "    \"\"\"Applies the Canny transform\"\"\"\n",
    "    return cv2.Canny(img, low_threshold, high_threshold)\n",
    "\n",
    "def gaussian_blur(img, kernel_size):\n",
    "    \"\"\"Applies a Gaussian Noise kernel\"\"\"\n",
    "    return cv2.GaussianBlur(img, (kernel_size, kernel_size), 0)\n",
    "\n",
    "def region_of_interest(img, vertices):\n",
    "    \"\"\"\n",
    "    Applies an image mask.\n",
    "    \n",
    "    Only keeps the region of the image defined by the polygon\n",
    "    formed from `vertices`. The rest of the image is set to black.\n",
    "    `vertices` should be a numpy array of integer points.\n",
    "    \"\"\"\n",
    "    #defining a blank mask to start with\n",
    "    mask = np.zeros_like(img)   \n",
    "    \n",
    "    #defining a 3 channel or 1 channel color to fill the mask with depending on the input image\n",
    "    if len(img.shape) > 2:\n",
    "        channel_count = img.shape[2]  # i.e. 3 or 4 depending on your image\n",
    "        ignore_mask_color = (255,) * channel_count\n",
    "    else:\n",
    "        ignore_mask_color = 255\n",
    "        \n",
    "    #filling pixels inside the polygon defined by \"vertices\" with the fill color    \n",
    "    cv2.fillPoly(mask, vertices, ignore_mask_color)\n",
    "    \n",
    "    #returning the image only where mask pixels are nonzero\n",
    "    masked_image = cv2.bitwise_and(img, mask)\n",
    "    return masked_image\n",
    "        \n",
    "def get_average_left_and_right_lanes(lines, image_height, image_width):\n",
    "    \"\"\"\n",
    "    This function extracts 2 averaged 'left' and 'right' lane lines form\n",
    "    an input array of lines, found by HoughLines transform.\n",
    "    Expects 'lines' to be an array of [x1, y1, x2, y2] records.\n",
    "    Returns a list of 2 lines (left and right), 4 coordinates per each.\n",
    "    \"\"\"\n",
    "    # Note: Here and after a 'slope' and an 'offset' mean members of a line equation\n",
    "    # \"y = slope * x + offset\"\n",
    "    left_lines_total = 0\n",
    "    left_slope_sum = 0.\n",
    "    left_offset_sum = 0\n",
    "    right_lines_total = 0.\n",
    "    right_slope_sum = 0\n",
    "    right_offset_sum = 0\n",
    "    \n",
    "    # While the car's camera remains close to the lane center and the lane is\n",
    "    # either straight or has a large radius, both left and right lane lines:\n",
    "    # 1) must have close (but inverted) slope values\n",
    "    # 2) the absolute slope value should lie within a particular range -- \n",
    "    # neither vertical, nor horizontal lines can not be the one we look for. \n",
    "    # Experimentally adjusted range for the test videos is:\n",
    "    min_slope = 0.40\n",
    "    max_slope = 0.85\n",
    "    \n",
    "    # To make lines' top endings fancier, I set up a top limit deliberately:\n",
    "    roi_top = image_height * 64 // 100\n",
    "    \n",
    "    for i in range (0, len(lines)):\n",
    "        (x1, y1, x2, y2) = lines[i][0]\n",
    "\n",
    "        # Note: As the image has an inverted Y axis, all the classic line geometry\n",
    "        # formulas must use '(image_height - y)' instead of 'y'.\n",
    "\n",
    "        slope = ((image_height - y2) - (image_height - y1)) / (x1 - x2)\n",
    "        if (abs(slope) < min_slope) or (abs(slope) > max_slope):\n",
    "            continue\n",
    "            \n",
    "        offset = (x2 * y1 - (x2 - x1) * image_height - x1 * y2) / (x1 - x2)\n",
    "                \n",
    "        # A 'left' line would have a negative slope, while a 'right' one -- positive.\n",
    "        if slope > 0.:\n",
    "            right_slope_sum += slope\n",
    "            right_lines_total += 1\n",
    "            right_offset_sum += offset\n",
    "        else:\n",
    "            left_slope_sum += slope\n",
    "            left_lines_total += 1\n",
    "            left_offset_sum += offset\n",
    "            \n",
    "    # When no corresponding line is detected,\n",
    "    # we also must protect from a division by zero.\n",
    "    left_avg_slope = left_slope_sum / max(left_lines_total, 1)\n",
    "    right_avg_slope = right_slope_sum / max(right_lines_total, 1)\n",
    "    left_avg_offset = left_offset_sum / max(left_lines_total, 1)\n",
    "    right_avg_offset = right_offset_sum / max(right_lines_total, 1)\n",
    "    \n",
    "    # Now, having both lane lines equations with averaged parameters,\n",
    "    # we only need to compute 2 points per a line for neat displaying.\n",
    "    # Both bottom points have 'y' equal to image bottom, and both top points\n",
    "    # have y equal to a ROI top coordinate; so, instead of a classic \n",
    "    # \"y = kx + b --> x=(b - y)/k\", equations for 'x' coord become simpler:\n",
    "    if left_avg_slope < 0:\n",
    "        left_bottom_x = int(left_avg_offset / left_avg_slope)\n",
    "        left_top_x = int((left_avg_offset - (image_height - roi_top)) / left_avg_slope)\n",
    "    else:\n",
    "        # In case of failed detection, draw a line on the left image border.\n",
    "        left_bottom_x = 0; left_top_x = 0\n",
    "\n",
    "    if right_avg_slope > 0:\n",
    "        right_bottom_x = int(right_avg_offset / right_avg_slope)\n",
    "        right_top_x = int((right_avg_offset - (image_height - roi_top)) / right_avg_slope)\n",
    "    else:\n",
    "        # In case of failed detection, draw a line on the right image border.\n",
    "        right_bottom_x = image_width; right_top_x = image_width\n",
    "    \n",
    "    lane_lines = np.array([[right_top_x, roi_top, right_bottom_x, image_height],\n",
    "                           [left_top_x, roi_top, left_bottom_x, image_height]])\n",
    "    return lane_lines       \n",
    "\n",
    "def draw_lines(img, lines, color=[255, 0, 0], thickness=10):\n",
    "    \"\"\"\n",
    "    NOTE: this is the function you might want to use as a starting point once you want to \n",
    "    average/extrapolate the line segments you detect to map out the full\n",
    "    extent of the lane (going from the result shown in raw-lines-example.mp4\n",
    "    to that shown in P1_example.mp4).  \n",
    "    \n",
    "    Think about things like separating line segments by their \n",
    "    slope ((y2-y1)/(x2-x1)) to decide which segments are part of the left\n",
    "    line vs. the right line.  Then, you can average the position of each of \n",
    "    the lines and extrapolate to the top and bottom of the lane.\n",
    "    \n",
    "    This function draws `lines` with `color` and `thickness`.    \n",
    "    Lines are drawn on the image inplace (mutates the image).\n",
    "    If you want to make the lines semi-transparent, think about combining\n",
    "    this function with the weighted_img() function below\n",
    "    \"\"\"\n",
    "    img_height = img.shape[0]; img_width = img.shape[1]\n",
    "    lane_lines = get_average_left_and_right_lanes(lines, img_height, img_width)\n",
    "    lane_lines = bayesian_filter.update(lane_lines)\n",
    "    for line in [lane_lines]:\n",
    "        for x1,y1,x2,y2 in line:\n",
    "            cv2.line(img, (x1, y1), (x2, y2), color, thickness)\n",
    "            \n",
    "def hough_lines(img, rho, theta, threshold, min_line_len, max_line_gap):\n",
    "    \"\"\"\n",
    "    `img` should be the output of a Canny transform.\n",
    "        \n",
    "    Returns an image with hough lines drawn.\n",
    "    \"\"\"\n",
    "    lines = cv2.HoughLinesP(img,\n",
    "                            rho,\n",
    "                            theta,\n",
    "                            threshold,\n",
    "                            np.array([]),\n",
    "                            minLineLength=min_line_len,\n",
    "                            maxLineGap=max_line_gap)\n",
    "    line_img = np.zeros((img.shape[0], img.shape[1], 3), dtype=np.uint8)\n",
    "    draw_lines(line_img, lines)\n",
    "    return line_img\n",
    "\n",
    "# Python 3 has support for cool math symbols.\n",
    "\n",
    "def weighted_img(img, initial_img, α=0.8, β=1., γ=0.):\n",
    "    \"\"\"\n",
    "    `img` is the output of the hough_lines(), An image with lines drawn on it.\n",
    "    Should be a blank image (all black) with lines drawn on it.\n",
    "    \n",
    "    `initial_img` should be the image before any processing.\n",
    "    \n",
    "    The result image is computed as follows:\n",
    "    \n",
    "    initial_img * α + img * β + γ\n",
    "    NOTE: initial_img and img must be the same shape!\n",
    "    \"\"\"\n",
    "    return cv2.addWeighted(initial_img, α, img, β, γ)\n",
    "        \n",
    "    "
   ]
  },
  {
   "cell_type": "markdown",
   "metadata": {},
   "source": [
    "## Test Images\n",
    "\n",
    "Build your pipeline to work on the images in the directory \"test_images\"  \n",
    "**You should make sure your pipeline works well on these images before you try the videos.**"
   ]
  },
  {
   "cell_type": "code",
   "execution_count": null,
   "metadata": {},
   "outputs": [],
   "source": [
    "import os\n",
    "if not os.path.isdir(\"test_images_output/\"):\n",
    "    os.mkdir(\"test_images_output\")\n",
    "os.listdir(\"test_images/\")"
   ]
  },
  {
   "cell_type": "markdown",
   "metadata": {},
   "source": [
    "## Build a Lane Finding Pipeline\n",
    "\n"
   ]
  },
  {
   "cell_type": "markdown",
   "metadata": {},
   "source": [
    "Build the pipeline and run your solution on all test_images. Make copies into the `test_images_output` directory, and you can use the images in your writeup report.\n",
    "\n",
    "Try tuning the various parameters, especially the low and high Canny thresholds as well as the Hough lines parameters."
   ]
  },
  {
   "cell_type": "code",
   "execution_count": null,
   "metadata": {},
   "outputs": [],
   "source": [
    "def to_radian(deg):\n",
    "    \"\"\" A helper function to set up the theta for hough lines \"\"\"\n",
    "    return deg * np.pi / 180.0\n",
    "\n",
    "def get_roi_coordinates(image_):\n",
    "    \"\"\"\n",
    "    A helper builder for a ROI points array; a ROI for lane lines detection\n",
    "    is always a trapezoid, so it is convenient to fix bottom-left and bottom-right\n",
    "    points to the image bottom corners (with a minor offset) respectively,\n",
    "    and only move the top part of the trapezoid, changing also its width.\n",
    "    As the horizon is mostly at the vertical center of the image, the\n",
    "    trapezoid top coordinate might be set as a vertical offset from the\n",
    "    vertical center.\n",
    "    \"\"\"\n",
    "    top_halfwidth = 20\n",
    "    height_offset = 50\n",
    "    shape = image_.shape\n",
    "    (height, width) = shape[0:2]\n",
    "    hor_center = width // 2\n",
    "    ver_center = height // 2\n",
    "\n",
    "    bl = (int(width * 0.05), height)\n",
    "    br = (int(width * 0.95) , height)\n",
    "    tl = (hor_center - top_halfwidth, ver_center + height_offset)\n",
    "    tr = (hor_center + top_halfwidth, ver_center + height_offset)\n",
    "    return np.array([[bl, tl, tr, br]])"
   ]
  },
  {
   "cell_type": "code",
   "execution_count": null,
   "metadata": {},
   "outputs": [],
   "source": [
    "# Some tuneable parameters for lane detection functions\n",
    "canny_low = 80\n",
    "canny_high = 200\n",
    "blur_radius = 3\n",
    "rho = 2               # distance resolution in pixels of the Hough grid\n",
    "theta = to_radian(3)  # angular resolution in radians of the Hough grid\n",
    "threshold = 40        # minimum number of votes (intersections in Hough grid cell)\n",
    "min_line_length = 30  # minimum number of pixels making up a line\n",
    "max_line_gap = 200    # maximum gap in pixels between connectable line segments\n",
    "\n",
    "def preprocess(image_):\n",
    "    \"\"\" Does some preprocessing of an input image/frame \"\"\"\n",
    "    luminosity_channel_idx = 1; saturation_channel_idx = 2\n",
    "    # A convertion to [Hue, Luminocity, Saturation] color space provides\n",
    "    # the maximum information about lane lines, as they must be always much \n",
    "    # brighter then their background, despite their color. Therefore a sum\n",
    "    # of luminocity and saturation (despite the hue) is what we need.\n",
    "    # Note: Whether an input is BGR or RGB does not matter here,\n",
    "    # as luminosity and saturation would be exactly the same.\n",
    "    hls = cv2.cvtColor(image_, cv2.COLOR_BGR2HLS)\n",
    "    lum = hls[:,:,luminosity_channel_idx]\n",
    "    cv2.imwrite('illustrations/luminosity.jpg', cv2.resize(lum, (480,270)))\n",
    "    sat = hls[:,:,saturation_channel_idx]\n",
    "    cv2.imwrite('illustrations/saturation.jpg', cv2.resize(sat, (480,270)))\n",
    "    # A 50/50 sum of lum and sat works good for 'challenge' video, where\n",
    "    # the road backgorund color changes rapidly and the lane marking is \n",
    "    # a bleached yellow. For the rest of videos a 'lum' channel only is enough.\n",
    "    gray = (lum // 2) + (sat // 2)\n",
    "    cv2.imwrite('illustrations/gray.jpg', cv2.resize(gray, (480,270)))\n",
    "    truegray = cv2.cvtColor(image_, cv2.COLOR_BGR2GRAY)\n",
    "    cv2.imwrite('illustrations/truegray.jpg', cv2.resize(truegray, (480,270)))\n",
    "    blurred = gaussian_blur(gray, blur_radius)\n",
    "    cv2.imwrite('illustrations/blurred.jpg', cv2.resize(blurred, (480,270)))\n",
    "    edges = canny(blurred, canny_low, canny_high)\n",
    "    cv2.imwrite('illustrations/edges.jpg', cv2.resize(edges, (480,270)))\n",
    "    masked = region_of_interest(edges, get_roi_coordinates(gray))\n",
    "    cv2.imwrite('illustrations/masked.jpg', cv2.resize(masked, (480,270)))\n",
    "    return masked\n",
    "\n",
    "def find_lanes_on(image_):\n",
    "    masked = preprocess(image_)\n",
    "    lane_lines = hough_lines(masked,\n",
    "                             rho,\n",
    "                             theta,\n",
    "                             threshold,\n",
    "                             min_line_length,\n",
    "                             max_line_gap)\n",
    "    cv2.imwrite('illustrations/lane_lines.jpg', cv2.resize(lane_lines, (480,270)))\n",
    "    result = weighted_img(lane_lines, image_)\n",
    "    return result\n",
    "\n",
    "\n",
    "for test_img_filename in os.listdir(\"test_images/\"):\n",
    "    out_image = find_lanes_on(mpimg.imread('test_images/' + test_img_filename))\n",
    "    cv2.imwrite('test_images_output/' + test_img_filename,\n",
    "                cv2.cvtColor(out_image, cv2.COLOR_BGR2RGB))\n",
    "    bayesian_filter.reset()\n",
    "\n",
    "    "
   ]
  },
  {
   "cell_type": "markdown",
   "metadata": {},
   "source": [
    "## Test on Videos\n",
    "\n",
    "You know what's cooler than drawing lanes over images? Drawing lanes over video!\n",
    "\n",
    "We can test our solution on two provided videos:\n",
    "\n",
    "`solidWhiteRight.mp4`\n",
    "\n",
    "`solidYellowLeft.mp4`\n",
    "\n",
    "**Note: if you get an import error when you run the next cell, try changing your kernel (select the Kernel menu above --> Change Kernel). Still have problems? Try relaunching Jupyter Notebook from the terminal prompt. Also, consult the forums for more troubleshooting tips.**\n",
    "\n",
    "**If you get an error that looks like this:**\n",
    "```\n",
    "NeedDownloadError: Need ffmpeg exe. \n",
    "You can download it by calling: \n",
    "imageio.plugins.ffmpeg.download()\n",
    "```\n",
    "**Follow the instructions in the error message and check out [this forum post](https://discussions.udacity.com/t/project-error-of-test-on-videos/274082) for more troubleshooting tips across operating systems.**"
   ]
  },
  {
   "cell_type": "code",
   "execution_count": null,
   "metadata": {},
   "outputs": [],
   "source": [
    "# Import everything needed to edit/save/watch video clips\n",
    "from moviepy.editor import VideoFileClip\n",
    "from IPython.display import HTML"
   ]
  },
  {
   "cell_type": "code",
   "execution_count": null,
   "metadata": {},
   "outputs": [],
   "source": [
    "def process_image(image):\n",
    "    result = find_lanes_on(image)\n",
    "    return result"
   ]
  },
  {
   "cell_type": "markdown",
   "metadata": {},
   "source": [
    "Let's try the one with the solid white lane on the right first ..."
   ]
  },
  {
   "cell_type": "code",
   "execution_count": null,
   "metadata": {},
   "outputs": [],
   "source": [
    "white_output = 'test_videos_output/solidWhiteRight.mp4'\n",
    "\n",
    "clip1 = VideoFileClip(\"test_videos/solidWhiteRight.mp4\")\n",
    "bayesian_filter.reset()\n",
    "white_clip = clip1.fl_image(process_image)\n",
    "%time white_clip.write_videofile(white_output, audio=False)"
   ]
  },
  {
   "cell_type": "markdown",
   "metadata": {},
   "source": [
    "Play the video inline, or if you prefer find the video in your filesystem (should be in the same directory) and play it in your video player of choice."
   ]
  },
  {
   "cell_type": "code",
   "execution_count": null,
   "metadata": {},
   "outputs": [],
   "source": [
    "HTML(\"\"\"\n",
    "<video width=\"960\" height=\"540\" controls>\n",
    "  <source src=\"{0}\">\n",
    "</video>\n",
    "\"\"\".format(white_output))"
   ]
  },
  {
   "cell_type": "markdown",
   "metadata": {},
   "source": [
    "## Improve the draw_lines() function\n",
    "\n",
    "**At this point, if you were successful with making the pipeline and tuning parameters, you probably have the Hough line segments drawn onto the road, but what about identifying the full extent of the lane and marking it clearly as in the example video (P1_example.mp4)?  Think about defining a line to run the full length of the visible lane based on the line segments you identified with the Hough Transform. As mentioned previously, try to average and/or extrapolate the line segments you've detected to map out the full extent of the lane lines. You can see an example of the result you're going for in the video \"P1_example.mp4\".**\n",
    "\n",
    "**Go back and modify your draw_lines function accordingly and try re-running your pipeline. The new output should draw a single, solid line over the left lane line and a single, solid line over the right lane line. The lines should start from the bottom of the image and extend out to the top of the region of interest.**"
   ]
  },
  {
   "cell_type": "markdown",
   "metadata": {},
   "source": [
    "Now for the one with the solid yellow lane on the left. This one's more tricky!"
   ]
  },
  {
   "cell_type": "code",
   "execution_count": null,
   "metadata": {},
   "outputs": [],
   "source": [
    "yellow_output = 'test_videos_output/solidYellowLeft.mp4'\n",
    "clip2 = VideoFileClip('test_videos/solidYellowLeft.mp4')\n",
    "bayesian_filter.reset()\n",
    "yellow_clip = clip2.fl_image(process_image)\n",
    "%time yellow_clip.write_videofile(yellow_output, audio=False)"
   ]
  },
  {
   "cell_type": "code",
   "execution_count": null,
   "metadata": {},
   "outputs": [],
   "source": [
    "HTML(\"\"\"\n",
    "<video width=\"960\" height=\"540\" controls>\n",
    "  <source src=\"{0}\">\n",
    "</video>\n",
    "\"\"\".format(yellow_output))"
   ]
  },
  {
   "cell_type": "markdown",
   "metadata": {},
   "source": [
    "## Writeup and Submission\n",
    "\n",
    "If you're satisfied with your video outputs, it's time to make the report writeup in a pdf or markdown file. Once you have this Ipython notebook ready along with the writeup, it's time to submit for review! Here is a [link](https://github.com/udacity/CarND-LaneLines-P1/blob/master/writeup_template.md) to the writeup template file.\n"
   ]
  },
  {
   "cell_type": "markdown",
   "metadata": {
    "collapsed": true
   },
   "source": [
    "## Optional Challenge\n",
    "\n",
    "Try your lane finding pipeline on the video below.  Does it still work?  Can you figure out a way to make it more robust?  If you're up for the challenge, modify your pipeline so it works with this video and submit it along with the rest of your project!"
   ]
  },
  {
   "cell_type": "code",
   "execution_count": null,
   "metadata": {},
   "outputs": [],
   "source": [
    "challenge_output = 'test_videos_output/challenge.mp4'\n",
    "clip3 = VideoFileClip('test_videos/challenge.mp4')\n",
    "bayesian_filter.reset()\n",
    "challenge_clip = clip3.fl_image(process_image)\n",
    "%time challenge_clip.write_videofile(challenge_output, audio=False)"
   ]
  },
  {
   "cell_type": "code",
   "execution_count": null,
   "metadata": {},
   "outputs": [],
   "source": [
    "HTML(\"\"\"\n",
    "<video width=\"960\" height=\"540\" controls>\n",
    "  <source src=\"{0}\">\n",
    "</video>\n",
    "\"\"\".format(challenge_output))"
   ]
  }
 ],
 "metadata": {
  "anaconda-cloud": {},
  "celltoolbar": "Raw Cell Format",
  "kernelspec": {
   "display_name": "Python 3",
   "language": "python",
   "name": "python3"
  },
  "language_info": {
   "codemirror_mode": {
    "name": "ipython",
    "version": 3
   },
   "file_extension": ".py",
   "mimetype": "text/x-python",
   "name": "python",
   "nbconvert_exporter": "python",
   "pygments_lexer": "ipython3",
   "version": "3.6.3"
  }
 },
 "nbformat": 4,
 "nbformat_minor": 1
}
